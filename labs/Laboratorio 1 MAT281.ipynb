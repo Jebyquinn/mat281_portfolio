{
 "cells": [
  {
   "cell_type": "markdown",
   "id": "85cefe31",
   "metadata": {},
   "source": [
    "# Problema 1\n",
    "#### (a) Calcular el número $\\pi$\n",
    "\n",
    "En los siglos XVII y XVIII, James Gregory y Gottfried Leibniz descubrieron una serie infinita que sirve para calcular $\\pi$:\n",
    "$$\n",
    "\\pi=4\\sum_{k=1}^{\\infty}\\frac{(-1)^{k+1}}{2k−1}=4\\left(1−\\frac{1}{3}+\\frac{1}{5}−\\frac{1}{7}+...\\right)\n",
    "$$\n",
    "Desarolle un programa para estimar el valor de π ocupando el método de Leibniz, donde la entrada del programa debe ser un número entero n que indique cuántos términos de la suma se utilizará.\n"
   ]
  },
  {
   "cell_type": "code",
   "execution_count": 25,
   "id": "7acff6b1",
   "metadata": {},
   "outputs": [],
   "source": [
    "def calcular_pi(n):\n",
    "    \"\"\"\n",
    "    calcular_pi(n)\n",
    "    \n",
    "    Aproximación del valor de pi mediante el método de Leibniz\n",
    "    \n",
    "    Parameters\n",
    "    ----------\n",
    "    n: int\n",
    "        Número de términos\n",
    "        \n",
    "    Returns\n",
    "    -------\n",
    "    output: float\n",
    "        Valor aproximado de pi.\n",
    "    \n",
    "    Examples\n",
    "    --------\n",
    "    >>> calcular_pi(3)\n",
    "    3.466666666666667\n",
    "    \n",
    "    >>>calcular_pi(1000)\n",
    "    3.140592653839794\n",
    "    \"\"\"\n",
    "    pi=0\n",
    "    i=1\n",
    "    while i<=n:\n",
    "        pi+=4*((-1)**(i+1))/(2*i-1)\n",
    "        i+=1\n",
    "    return pi "
   ]
  },
  {
   "cell_type": "markdown",
   "id": "bf7a9295",
   "metadata": {},
   "source": [
    "Verifiquemos los ejemplos propuestos:"
   ]
  },
  {
   "cell_type": "code",
   "execution_count": 16,
   "id": "f92b46e0",
   "metadata": {},
   "outputs": [],
   "source": [
    "#Ejemplo 1:\n",
    "assert calcular_pi(3) == 3.466666666666667, \"ejemplo 1 incorrecto\""
   ]
  },
  {
   "cell_type": "code",
   "execution_count": 18,
   "id": "5c09eda7",
   "metadata": {},
   "outputs": [],
   "source": [
    "#Ejemplo 2:\n",
    "assert calcular_pi(1000) == 3.140592653839794, \"ejemplo 2 incorrecto\"\n"
   ]
  },
  {
   "cell_type": "code",
   "execution_count": 19,
   "id": "b313e9db",
   "metadata": {},
   "outputs": [
    {
     "name": "stdout",
     "output_type": "stream",
     "text": [
      "Help on function calcular_pi in module __main__:\n",
      "\n",
      "calcular_pi(n)\n",
      "    calcular_pi(n)\n",
      "    \n",
      "    Aproximación del valor de pi mediante el método de Leibniz\n",
      "    \n",
      "    Parameters\n",
      "    ----------\n",
      "    n: int\n",
      "        Número de términos\n",
      "        \n",
      "    Returns\n",
      "    -------\n",
      "    output: float\n",
      "        Valor aproximado de pi.\n",
      "    \n",
      "    Examples\n",
      "    --------\n",
      "    >>> calcular_pi(3)\n",
      "    3.466666666666667\n",
      "    \n",
      "    >>>calcular_pi(1000)\n",
      "    3.140592653839794\n",
      "\n"
     ]
    }
   ],
   "source": [
    "help(calcular_pi)"
   ]
  },
  {
   "cell_type": "markdown",
   "id": "d2f9fec2",
   "metadata": {},
   "source": [
    "### (b) Calcular número $e$\n",
    "\n",
    "Euler realizó varios aportes en relación a e, pero no fue hasta 1748 cuando publicó su Introductio in analysin infinitorum que dio un tratamiento definitivo a las ideas sobre e. Allí mostró que:En los siglos XVII y XVIII, James Gregory y Gottfried Leibniz descubrieron una serie infinita que sirve para calcular $e$:\n",
    "$$\n",
    "e=\\sum_{k=0}^{\\infty}\\frac{1}{k!}=1+\\frac{1}{2!}+\\frac{1}{3!}+\\frac{1}{4!}+...\n",
    "$$\n",
    "Desarolle un programa para estimar el valor de e ocupando el método de Euler, donde la entrada del programa debe ser un número entero n que indique cuántos términos de la suma se utilizará."
   ]
  },
  {
   "cell_type": "code",
   "execution_count": 36,
   "id": "20d668c0",
   "metadata": {},
   "outputs": [],
   "source": [
    "def factorial(n):\n",
    "    \"\"\"\n",
    "    factorial(n)\n",
    "    \n",
    "    Calcula el factorial de un número\n",
    "    \n",
    "    Parameters\n",
    "    ----------\n",
    "    n: int\n",
    "        Término a calcular el factorial\n",
    "        \n",
    "    Returns\n",
    "    -------\n",
    "    output: int\n",
    "        Factorial del número n\n",
    "    \"\"\"\n",
    "    \n",
    "    if n == 0:\n",
    "        return 1\n",
    "    elif n>=1: \n",
    "        return n*factorial(n-1)\n",
    "\n",
    "def calcular_e(n):\n",
    "    \"\"\"\n",
    "    calcular_e(n)\n",
    "    \n",
    "    Aproximación del valor de pi mediante el método de Euler\n",
    "    \n",
    "    Parameters\n",
    "    ----------\n",
    "    n: int\n",
    "        Número de términos\n",
    "        \n",
    "    Returns\n",
    "    -------\n",
    "    output: float\n",
    "        Valor aproximado de e.\n",
    "    \n",
    "    Examples\n",
    "    --------\n",
    "    >>> calcular_e(3)\n",
    "    2.6666666666666665\n",
    "    \n",
    "    >>>calcular_e(1000)\n",
    "    2.7182818284590455\n",
    "    \"\"\"\n",
    "    \n",
    "    e=0\n",
    "    i=0\n",
    "    while i<=n:\n",
    "        e+=(1/factorial(i))\n",
    "        i+=1\n",
    "    return e   "
   ]
  },
  {
   "cell_type": "markdown",
   "id": "04bc3812",
   "metadata": {},
   "source": [
    "Verifiquemos los ejemplos:"
   ]
  },
  {
   "cell_type": "code",
   "execution_count": 37,
   "id": "83847ff1",
   "metadata": {},
   "outputs": [
    {
     "ename": "AssertionError",
     "evalue": "ejemplo 1 incorrecto",
     "output_type": "error",
     "traceback": [
      "\u001b[1;31m---------------------------------------------------------------------------\u001b[0m",
      "\u001b[1;31mAssertionError\u001b[0m                            Traceback (most recent call last)",
      "\u001b[1;32m<ipython-input-37-774ce9a67e71>\u001b[0m in \u001b[0;36m<module>\u001b[1;34m\u001b[0m\n\u001b[0;32m      1\u001b[0m \u001b[1;31m#Ejemplo 1:\u001b[0m\u001b[1;33m\u001b[0m\u001b[1;33m\u001b[0m\u001b[1;33m\u001b[0m\u001b[0m\n\u001b[1;32m----> 2\u001b[1;33m \u001b[1;32massert\u001b[0m \u001b[1;33m(\u001b[0m\u001b[0mcalcular_e\u001b[0m\u001b[1;33m(\u001b[0m\u001b[1;36m3\u001b[0m\u001b[1;33m)\u001b[0m\u001b[1;33m)\u001b[0m \u001b[1;33m==\u001b[0m \u001b[1;36m2.5\u001b[0m\u001b[1;33m,\u001b[0m \u001b[1;34m\"ejemplo 1 incorrecto\"\u001b[0m\u001b[1;33m\u001b[0m\u001b[1;33m\u001b[0m\u001b[0m\n\u001b[0m",
      "\u001b[1;31mAssertionError\u001b[0m: ejemplo 1 incorrecto"
     ]
    }
   ],
   "source": [
    "#Ejemplo 1:\n",
    "assert (calcular_e(3)) == 2.5, \"ejemplo 1 incorrecto\""
   ]
  },
  {
   "cell_type": "code",
   "execution_count": 38,
   "id": "6b0ce8e9",
   "metadata": {},
   "outputs": [],
   "source": [
    "#Ejemplo 2:\n",
    "assert (calcular_e(1000)) ==  2.7182818284590455, \"ejemplo 2 incorrecto\""
   ]
  },
  {
   "cell_type": "code",
   "execution_count": 39,
   "id": "36b6cdf7",
   "metadata": {},
   "outputs": [
    {
     "name": "stdout",
     "output_type": "stream",
     "text": [
      "Help on function calcular_e in module __main__:\n",
      "\n",
      "calcular_e(n)\n",
      "    calcular_e(n)\n",
      "    \n",
      "    Aproximación del valor de pi mediante el método de Euler\n",
      "    \n",
      "    Parameters\n",
      "    ----------\n",
      "    n: int\n",
      "        Número de términos\n",
      "        \n",
      "    Returns\n",
      "    -------\n",
      "    output: float\n",
      "        Valor aproximado de e.\n",
      "    \n",
      "    Examples\n",
      "    --------\n",
      "    >>> calcular_e(3)\n",
      "    2.6666666666666665\n",
      "    \n",
      "    >>>calcular_e(1000)\n",
      "    2.7182818284590455\n",
      "\n"
     ]
    }
   ],
   "source": [
    "help(calcular_e)"
   ]
  },
  {
   "cell_type": "markdown",
   "id": "fc75b33a",
   "metadata": {},
   "source": [
    "# Problema 2\n",
    "Sea $\\sigma(n)$ definido como la suma de los divisores propios de $n$ (números menores que n que se dividen en $n$).\n",
    "\n",
    "Los números amigos son  enteros positivos $n_1$ y $n_2$ tales que la suma de los divisores propios de uno es igual al otro número y viceversa, es decir, $\\sigma(n_1)=\\sigma(n_2)$ y $\\sigma(n_2​)=\\sigma(n_1)$. \n",
    "\n",
    "Por ejemplo, los números 220 y 284 son números amigos.\n",
    "\n",
    "* los divisores propios de 220 son 1, 2, 4, 5, 10, 11, 20, 22, 44, 55 y 110; por lo tanto $\\sigma(220)=284$. \n",
    "* los divisores propios de 284 son 1, 2, 4, 71 y 142; entonces $\\sigma(284)=220$.\n",
    "\n",
    "Implemente una función llamada amigos cuyo input sean dos números naturales $n_1$ y $n_2$, cuyo output sea verifique si los números son amigos o no."
   ]
  },
  {
   "cell_type": "code",
   "execution_count": 45,
   "id": "92c51b2b",
   "metadata": {},
   "outputs": [],
   "source": [
    " def divisores(n):\n",
    "    \"\"\"\n",
    "    divisores(n)\n",
    "    \n",
    "    Crea una lista con los divisores de n\n",
    "    \n",
    "    Parameters\n",
    "    ----------\n",
    "    n: int\n",
    "        Número entero positivo\n",
    "        \n",
    "    Returns\n",
    "    -------\n",
    "    output: list\n",
    "        Lista con los divisores de n\n",
    "    \"\"\"\n",
    "    \n",
    "    div=[]\n",
    "    i=1\n",
    "    for i in range(1,n):\n",
    "        if n%i == 0:\n",
    "            div.append(i)\n",
    "    return div   \n",
    "\n",
    "def amigos(n1,n2):\n",
    "    \"\"\"\n",
    "    amigos(n1,n2)\n",
    "    \n",
    "    Revisa si los números ingresados son números amigos.\n",
    "    \n",
    "    Parameters\n",
    "    ----------\n",
    "    n1: int\n",
    "        Número entero positivo\n",
    "    n2: int\n",
    "        Número entero positivo   \n",
    "        \n",
    "    Returns\n",
    "    -------\n",
    "    output: bool\n",
    "        El valor de verdad de los números ingresados\n",
    "    \n",
    "    Examples\n",
    "    --------\n",
    "    >>> amigos(220,284)\n",
    "    True\n",
    "    \n",
    "    >>>amigos(6,5)\n",
    "    False\n",
    "    \"\"\"\n",
    "    \n",
    "    div1=divisores(n1)\n",
    "    div2=divisores(n2)\n",
    "    sigma1=0\n",
    "    sigma2=0\n",
    "    for i in div1:\n",
    "        sigma1+=i\n",
    "    for j in div2:\n",
    "        sigma2+=j   \n",
    "    if sigma1==n2 and sigma2==n1:\n",
    "        return True\n",
    "    else:\n",
    "        return False         "
   ]
  },
  {
   "cell_type": "markdown",
   "id": "413702fa",
   "metadata": {},
   "source": [
    "Verifiquemos los ejemplos:"
   ]
  },
  {
   "cell_type": "code",
   "execution_count": 33,
   "id": "a3cff84e",
   "metadata": {},
   "outputs": [],
   "source": [
    "#Ejemplo 1:\n",
    "assert amigos(220,284)==True, \"ejemplo 1 incorrecto\""
   ]
  },
  {
   "cell_type": "code",
   "execution_count": 32,
   "id": "685254f0",
   "metadata": {},
   "outputs": [
    {
     "ename": "AssertionError",
     "evalue": "",
     "output_type": "error",
     "traceback": [
      "\u001b[1;31m---------------------------------------------------------------------------\u001b[0m",
      "\u001b[1;31mAssertionError\u001b[0m                            Traceback (most recent call last)",
      "\u001b[1;32m<ipython-input-32-e7c563fe2f47>\u001b[0m in \u001b[0;36m<module>\u001b[1;34m\u001b[0m\n\u001b[1;32m----> 1\u001b[1;33m \u001b[1;32massert\u001b[0m \u001b[0mamigos\u001b[0m \u001b[1;33m(\u001b[0m\u001b[1;36m6\u001b[0m\u001b[1;33m,\u001b[0m\u001b[1;36m5\u001b[0m\u001b[1;33m)\u001b[0m\u001b[1;33m==\u001b[0m\u001b[1;32mTrue\u001b[0m\u001b[1;33m\u001b[0m\u001b[1;33m\u001b[0m\u001b[0m\n\u001b[0m",
      "\u001b[1;31mAssertionError\u001b[0m: "
     ]
    }
   ],
   "source": [
    "Ejemplo 2:\n",
    "assert amigos (6,5)==True, \"ejemplo 2 incorrecto\""
   ]
  },
  {
   "cell_type": "code",
   "execution_count": 46,
   "id": "a2d3ee6a",
   "metadata": {},
   "outputs": [
    {
     "name": "stdout",
     "output_type": "stream",
     "text": [
      "Help on function amigos in module __main__:\n",
      "\n",
      "amigos(n1, n2)\n",
      "    amigos(n1,n2)\n",
      "    \n",
      "    Revisa si los números ingresados son números amigos.\n",
      "    \n",
      "    Parameters\n",
      "    ----------\n",
      "    n1: int\n",
      "        Número entero positivo\n",
      "    n2: int\n",
      "        Número entero positivo   \n",
      "        \n",
      "    Returns\n",
      "    -------\n",
      "    output: bool\n",
      "        El valor de verdad de los números ingresados\n",
      "    \n",
      "    Examples\n",
      "    --------\n",
      "    >>> amigos(220,284)\n",
      "    True\n",
      "    \n",
      "    >>>amigos(6,5)\n",
      "    False\n",
      "\n"
     ]
    }
   ],
   "source": [
    "help(amigos)"
   ]
  },
  {
   "cell_type": "markdown",
   "id": "44f7745d",
   "metadata": {},
   "source": [
    "# Problema 3\n",
    "La conjetura de Collatz, conocida también como conjetura $3n+1$ o conjetura de Ulam (entre otros nombres), fue enunciada por el matemático Lothar Collatz en 1937, y a la fecha no se ha resuelto.\n",
    "\n",
    "Sea la siguiente operación, aplicable a cualquier número entero positivo:\n",
    "\n",
    "* Si el número es par, se divide entre 2.\n",
    "* Si el número es impar, se multiplica por 3 y se suma 1.\n",
    "\n",
    "La conjetura dice que siempre alcanzaremos el 1 (y por tanto el ciclo 4, 2, 1) para cualquier número con el que comencemos. \n",
    "\n",
    "Implemente una función llamada collatz cuyo input sea un número natural positivo $N$ y como output devulva la secuencia de números hasta llegar a 1."
   ]
  },
  {
   "cell_type": "code",
   "execution_count": 47,
   "id": "06b94d1f",
   "metadata": {},
   "outputs": [],
   "source": [
    "def collatz(n):\n",
    "    \"\"\"\n",
    "    collatz(n)\n",
    "    \n",
    "    Aplica la conjetura de Collatz a cualquier número entero positivo.\n",
    "    \n",
    "    Parameters\n",
    "    ----------\n",
    "    n: int\n",
    "        Número entero positivo\n",
    "    \n",
    "    Returns\n",
    "    -------\n",
    "    output: list\n",
    "        Lista de la secuencia de la conjetura de Collatz\n",
    "    \n",
    "    Examples\n",
    "    --------\n",
    "    >>> collatz(9)\n",
    "    [9, 28, 14, 7, 22, 11, 34, 17, 52, 26, 13, 40, 20, 10, 5, 16, 8, 4, 2, 1]\n",
    "    \"\"\"\n",
    "    \n",
    "    c=[]\n",
    "    while n!=1:\n",
    "        if n%2==0:\n",
    "            c.append(n)\n",
    "            n=n//2\n",
    "        else:\n",
    "            c.append(n)    \n",
    "            n=3*n+1\n",
    "        collatz(n)\n",
    "    c.append(n)    \n",
    "    return c   "
   ]
  },
  {
   "cell_type": "markdown",
   "id": "32c3741d",
   "metadata": {},
   "source": [
    "Verifiquemos el ejemplo:"
   ]
  },
  {
   "cell_type": "code",
   "execution_count": 48,
   "id": "cf1d2523",
   "metadata": {},
   "outputs": [],
   "source": [
    "#Ejemplo 1:\n",
    "assert (collatz(9))==[9, 28, 14, 7, 22, 11, 34, 17, 52, 26, 13, 40, 20, 10, 5, 16, 8, 4, 2, 1], \"ejemplo 1 incorrecto\""
   ]
  },
  {
   "cell_type": "code",
   "execution_count": 49,
   "id": "75d566d5",
   "metadata": {},
   "outputs": [
    {
     "name": "stdout",
     "output_type": "stream",
     "text": [
      "Help on function collatz in module __main__:\n",
      "\n",
      "collatz(n)\n",
      "    collatz(n)\n",
      "    \n",
      "    Aplica la conjetura de Collatz a cualquier número entero positivo.\n",
      "    \n",
      "    Parameters\n",
      "    ----------\n",
      "    n: int\n",
      "        Número entero positivo\n",
      "    \n",
      "    Returns\n",
      "    -------\n",
      "    output: list\n",
      "        Lista de la secuencia de la conjetura de Collatz\n",
      "    \n",
      "    Examples\n",
      "    --------\n",
      "    >>> collatz(9)\n",
      "    [9, 28, 14, 7, 22, 11, 34, 17, 52, 26, 13, 40, 20, 10, 5, 16, 8, 4, 2, 1]\n",
      "\n"
     ]
    }
   ],
   "source": [
    "help(collatz)"
   ]
  },
  {
   "cell_type": "markdown",
   "id": "527f212b",
   "metadata": {},
   "source": [
    "# Problema 4\n",
    "La conjetura de Goldbach es uno de los problemas abiertos más antiguos en matemáticas. Concretamente, G.H. Hardy, en 1921, en su famoso discurso pronunciado en la Sociedad Matemática de Copenhague, comentó que probablemente la conjetura de Goldbach no es solo uno de los problemas no resueltos más difíciles de la teoría de números, sino de todas las matemáticas. Su enunciado es el siguiente:\n",
    "\n",
    "$$\n",
    "\\textrm{Todo número par mayor que 2 puede escribirse como suma de dos números primos - Christian Goldbach (1742)}\n",
    "$$\n",
    "\n",
    "Implemente una función llamada goldbach cuyo input sea un número natural positivo $N$ y como output devuelva la suma de dos primos $N1$ y $N2$ tal que: $N1+N2=N$."
   ]
  },
  {
   "cell_type": "code",
   "execution_count": 52,
   "id": "5510c1de",
   "metadata": {},
   "outputs": [],
   "source": [
    "def primo(n):\n",
    "    \"\"\"\n",
    "    primo(n)\n",
    "    \n",
    "    Revisa si el número ingresado es un número primo\n",
    "    \n",
    "    Parameters\n",
    "    ----------\n",
    "    n: int\n",
    "        Número entero positivo\n",
    "          \n",
    "    Returns\n",
    "    -------\n",
    "    output: int/bool\n",
    "        Si es primo regresa el número n, si no es primo entrega el valor falso\n",
    "    \"\"\"\n",
    "    \n",
    "    if n%2==0:\n",
    "        if n==2:\n",
    "            return n\n",
    "        else:\n",
    "            return False\n",
    "    else:\n",
    "        c=0\n",
    "        for i in range(1,n):\n",
    "            if n%i==0 and n!=i and i!=1:\n",
    "                c+=1\n",
    "        if c!=0:\n",
    "            return False\n",
    "        else:\n",
    "            return n                   \n",
    "\n",
    "def p_menores(n):\n",
    "    \"\"\"\n",
    "    p_menores(n)\n",
    "    \n",
    "    Entrega una lista con los números primos menores a n\n",
    "    \n",
    "    Parameters\n",
    "    ----------\n",
    "    n: int\n",
    "        Número entero positivo   \n",
    "        \n",
    "    Returns\n",
    "    -------\n",
    "    output: list\n",
    "        Lista con los números primos menores a n.\n",
    "    \"\"\"\n",
    "    \n",
    "    p=[]\n",
    "    for i in range(1,n):\n",
    "        if i==primo(i) and i!=1:\n",
    "            p.append(i)\n",
    "    return p\n",
    "\n",
    "def goldbach(n):\n",
    "    \"\"\"\n",
    "    goldbach(n)\n",
    "    \n",
    "    Entrega una tupla con números que suman n\n",
    "    \n",
    "    Parameters\n",
    "    ----------\n",
    "    n: int\n",
    "        Número entero positivo par\n",
    "    \n",
    "    Returns\n",
    "    -------\n",
    "    output: tuple\n",
    "        Tupla de los primeros números primos que sumados dan n\n",
    "    \n",
    "    Examples\n",
    "    --------\n",
    "    >>> goldbach(4)\n",
    "    (2,2)\n",
    "    \n",
    "    >>>goldbach(6)\n",
    "    (3,3)\n",
    "    \n",
    "    >>>goldbach(8)\n",
    "    (3,5)\n",
    "    \"\"\"\n",
    "    \n",
    "    for i in p_menores(n):\n",
    "        for j in p_menores(n):\n",
    "            if i+j==n:\n",
    "                return (i,j)   "
   ]
  },
  {
   "cell_type": "markdown",
   "id": "263d094f",
   "metadata": {},
   "source": [
    "Verifiquemos los ejemplos:"
   ]
  },
  {
   "cell_type": "code",
   "execution_count": 53,
   "id": "c070a42a",
   "metadata": {},
   "outputs": [],
   "source": [
    "#Ejemplo 1\n",
    "assert (goldbach(4))== (2,2), \"ejemplo 1 incorrecto\""
   ]
  },
  {
   "cell_type": "code",
   "execution_count": 54,
   "id": "3691c0e1",
   "metadata": {},
   "outputs": [],
   "source": [
    "#Ejemplo 2\n",
    "assert (goldbach(6)) == (3,3), \"ejemplo 2 incorrecto\""
   ]
  },
  {
   "cell_type": "code",
   "execution_count": 55,
   "id": "374cf4a7",
   "metadata": {},
   "outputs": [],
   "source": [
    "#Ejemplo 3\n",
    "assert (goldbach(8)) == (3,5), \"ejemplo 3 incorrecto\""
   ]
  },
  {
   "cell_type": "code",
   "execution_count": 56,
   "id": "e01e975f",
   "metadata": {},
   "outputs": [
    {
     "name": "stdout",
     "output_type": "stream",
     "text": [
      "Help on function goldbach in module __main__:\n",
      "\n",
      "goldbach(n)\n",
      "    goldbach(n)\n",
      "    \n",
      "    Entrega una tupla con números que suman n\n",
      "    \n",
      "    Parameters\n",
      "    ----------\n",
      "    n: int\n",
      "        Número entero positivo par\n",
      "    \n",
      "    Returns\n",
      "    -------\n",
      "    output: tuple\n",
      "        Tupla de los primeros números primos que sumados dan n\n",
      "    \n",
      "    Examples\n",
      "    --------\n",
      "    >>> goldbach(4)\n",
      "    (2,2)\n",
      "    \n",
      "    >>>goldbach(4)\n",
      "    (2,2)\n",
      "\n"
     ]
    }
   ],
   "source": [
    "help(goldbach)"
   ]
  },
  {
   "cell_type": "code",
   "execution_count": null,
   "id": "d40ed17c",
   "metadata": {},
   "outputs": [],
   "source": []
  }
 ],
 "metadata": {
  "kernelspec": {
   "display_name": "Python 3",
   "language": "python",
   "name": "python3"
  },
  "language_info": {
   "codemirror_mode": {
    "name": "ipython",
    "version": 3
   },
   "file_extension": ".py",
   "mimetype": "text/x-python",
   "name": "python",
   "nbconvert_exporter": "python",
   "pygments_lexer": "ipython3",
   "version": "3.8.8"
  }
 },
 "nbformat": 4,
 "nbformat_minor": 5
}
