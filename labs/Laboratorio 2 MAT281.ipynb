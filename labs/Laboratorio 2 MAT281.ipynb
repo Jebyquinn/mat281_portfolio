{
 "cells": [
  {
   "cell_type": "markdown",
   "id": "8e4494b7",
   "metadata": {},
   "source": [
    "# Laboratorio 2\n",
    "### Problema 1\n",
    "Una media móvil simple (SMA) es el promedio de los últimos $k$ datos anteriores, es decir, sea $a_1$,$a_2$,...,$a_n$ un arreglo n-dimensional, entonces la SMA se define por:\n",
    "$$\n",
    "sma(k)=\\frac{1}{k}(a_n+a_{n−1}+...+a_{n−(k−1)})=\\frac{1}{k}\\sum_{i=0}^{k−1}a_{n−i}\n",
    "$$\n",
    "Por otro lado podemos definir el SMA con una venta móvil de $n$ si el resultado nos retorna la el promedio ponderado avanzando de la siguiente forma:\n",
    "\n",
    "* $a = [1,2,3,4,5]$, la SMA con una ventana de $n=2$ sería:\n",
    "    * sma(2) = [promedio(1,2), promedio(2,3), promedio(3,4), promedio(4,5)] = [1.5, 2.5, 3.5, 4.5]\n",
    "\n",
    "\n",
    "* $a = [1,2,3,4,5]$, la SMA con una ventana de $n=3$ sería:\n",
    " * sma(3) = [promedio(1,2,3), promedio(2,3,4), promedio(3,4,5)] = [2.,3.,4.]\n",
    "\n",
    "Implemente una función llamada sma cuyo input sea un arreglo unidimensional $a$ y un entero $n$, y cuyo ouput retorne el valor de la media móvil simple sobre el arreglo de la siguiente forma:\n",
    "\n",
    "* Ejemplo: sma([5,3,8,10,2,1,5,1,0,2], 2) = [4.,5.5,9.,6.,1.5,3.,3.,0.5,1.]\n",
    "\n",
    "En este caso, se esta calculando el SMA para un arreglo con una ventana de $n=2$."
   ]
  },
  {
   "cell_type": "code",
   "execution_count": 281,
   "id": "64ede231",
   "metadata": {},
   "outputs": [],
   "source": [
    "import numpy as np"
   ]
  },
  {
   "cell_type": "code",
   "execution_count": 282,
   "id": "a9314868",
   "metadata": {},
   "outputs": [],
   "source": [
    "def sma(a,n):\n",
    "    \"\"\"\n",
    "  sma(a,n)\n",
    "  \n",
    "  Calcula la media móvil simple de un arreglo unidimensional\n",
    "\n",
    "  Parameters\n",
    "  ----------\n",
    "  a : numpy.ndarray\n",
    "      Arreglo unidimensional.\n",
    "  n : int\n",
    "      Numero de términos.\n",
    "\n",
    "  Returns\n",
    "  -------\n",
    "  output : numpy.ndarray\n",
    "      Arreglo media móvil simple.\n",
    "        \n",
    "  Examples\n",
    "  --------\n",
    "  >>> sma([5,3,8,10,2,1,5,1,0,2], 2)  \n",
    "  [4.,5.5,9.,6.,1.5,3.,3.,0.5,1.]\n",
    "  \"\"\" \n",
    "    b=[]\n",
    "    for i in range(len(a)-n+1):\n",
    "        suma=a[i]\n",
    "        for j in range(1,n):\n",
    "            suma+=a[i+j]\n",
    "        b.append(suma/n)  \n",
    "    return b    "
   ]
  },
  {
   "cell_type": "markdown",
   "id": "0600fcad",
   "metadata": {},
   "source": [
    "### Verificamos los ejemplos"
   ]
  },
  {
   "cell_type": "code",
   "execution_count": 284,
   "id": "fc54d4fc",
   "metadata": {},
   "outputs": [],
   "source": [
    "# ejemplo 1\n",
    "a = np.array([1,2,3,4,5])\n",
    "\n",
    "np.testing.assert_array_equal(\n",
    "    sma(a,2),\n",
    "    np.array([1.5, 2.5, 3.5, 4.5])\n",
    ")"
   ]
  },
  {
   "cell_type": "code",
   "execution_count": 286,
   "id": "a4b5a95e",
   "metadata": {},
   "outputs": [],
   "source": [
    "# ejemplo 2\n",
    "a = np.array([5,3,8,10,2,1,5,1,0,2])\n",
    "\n",
    "np.testing.assert_array_equal(\n",
    "    sma(a,2),\n",
    "    np.array([4. , 5.5, 9. , 6. , 1.5, 3. , 3. , 0.5, 1. ])\n",
    ")"
   ]
  },
  {
   "cell_type": "markdown",
   "id": "912bb019",
   "metadata": {},
   "source": [
    "### Problema 2\n",
    "La función strides($a$,$n$,$p$), corresponde a transformar un arreglo unidimensional a en una matriz de n columnas, en el cual las filas se van construyendo desfasando la posición del arreglo en p pasos hacia adelante.\n",
    "\n",
    "* Para el arreglo unidimensional a = [ 1,  2,  3,  4,  5,  6,  7,  8,  9, 10], la función strides($a$,$4$,$2$), corresponde a crear una matriz de 4 columnas, cuyos desfaces hacia adelante se hacen de dos en dos. \n",
    "\n",
    "El resultado tendría que ser algo así:\n",
    "$$\\begin{pmatrix}\n",
    " 1& 2 &3 &4 \\\\ \n",
    " 3&  4&5&6 \\\\ \n",
    " 5& 6 &7 &8 \\\\ \n",
    " 7& 8 &9 &10 \\\\ \n",
    "\\end{pmatrix}$$\n",
    "\n",
    "Implemente una función llamada strides(a,n,p) cuyo input sea:\n",
    "* $a$: un arreglo unidimensional, \n",
    "* $n$: el número de columnas,\n",
    "* $p$: el número de pasos hacia adelante  \n",
    "\n",
    "y retorne la matriz de n columnas, cuyos desfaces hacia adelante se hacen de p en p pasos. "
   ]
  },
  {
   "cell_type": "code",
   "execution_count": 242,
   "id": "0a8decd8",
   "metadata": {},
   "outputs": [],
   "source": [
    "def strides(a,n,p):\n",
    "    \"\"\"\n",
    "  strides(a,n,p)\n",
    "  \n",
    "  Construye una matriz con un desfase p mediante un arreglo dado.\n",
    "\n",
    "  Parameters\n",
    "  ----------\n",
    "  a : numpy.ndarray\n",
    "      Arreglo unidimensional.\n",
    "  n : int\n",
    "      Numero de columnas de la matriz.\n",
    "  p : int\n",
    "      Número de desfase.\n",
    "\n",
    "  Returns\n",
    "  -------\n",
    "  output : numpy.ndarray\n",
    "      Matriz desfasada en p pasos mediante el arreglo dado.\n",
    "        \n",
    "  Examples\n",
    "  --------\n",
    "  >>> strides(a,4,2)\n",
    "  array([[ 1., 2., 3., 4.],\n",
    "         [ 3., 4., 5., 6.],\n",
    "         [ 5., 6., 7., 8.],\n",
    "         [ 7., 8., 9., 10.]]) \n",
    "  \"\"\"\n",
    "    A=np.zeros((n,n))\n",
    "    for i in range(n):\n",
    "        for j in range(n):\n",
    "            A[j][i]=a[p*j+i]\n",
    "    return A    \n",
    "    "
   ]
  },
  {
   "cell_type": "markdown",
   "id": "9137c5f0",
   "metadata": {},
   "source": [
    "### Verificamos el ejemplo"
   ]
  },
  {
   "cell_type": "code",
   "execution_count": 288,
   "id": "68a2465d",
   "metadata": {},
   "outputs": [],
   "source": [
    "# ejemplo 1\n",
    "a = np.array([ 1,  2,  3,  4,  5,  6,  7,  8,  9, 10])\n",
    "n=4\n",
    "p=2\n",
    "\n",
    "np.testing.assert_array_equal(\n",
    "    strides(a,n,p),\n",
    "    np.array([\n",
    "       [ 1,  2,  3,  4],\n",
    "       [ 3,  4,  5,  6],\n",
    "       [ 5,  6,  7,  8],\n",
    "       [ 7,  8,  9, 10]\n",
    "    ])\n",
    ")"
   ]
  },
  {
   "cell_type": "markdown",
   "id": "1c507cf6",
   "metadata": {},
   "source": [
    "### Problema 3\n",
    "Un cuadrado mágico es una matriz de tamaño $n×n$ de números enteros positivos tal que la suma de los números por columnas, filas y diagonales principales sea la misma. Usualmente, los números empleados para rellenar las casillas son consecutivos, de 1 a $n^2$, siendo $n$ el número de columnas y filas del cuadrado mágico.\n",
    "\n",
    "Si los números son consecutivos de 1 a $n^2$, la suma de los números por columnas, filas y diagonales principales es igual a: \n",
    "$$\n",
    "\\displaystyle M_{n} = \\dfrac{n(n^2+1)}{2}\n",
    "$$\n",
    "Por ejemplo, \n",
    "* $\n",
    "A= \\begin{pmatrix}\n",
    "4& 9 &2 \\\\ \n",
    "3&  5&7 \\\\ \n",
    "8& 1 &6 \n",
    "\\end{pmatrix}\n",
    "$,\n",
    "es un cuadrado mágico.\n",
    "* $B= \\begin{pmatrix}\n",
    "4& 2 &9 \\\\ \n",
    "3&  5&7 \\\\ \n",
    "8& 1 &6 \n",
    "\\end{pmatrix}$, no es un cuadrado mágico.\n",
    "\n",
    "Implemente una función llamada es_cuadrado_magico cuyo input sea una matriz cuadrada de tamaño $n$ con números consecutivos de $1$ a $n^2$ y cuyo ouput retorne True si es un cuadrado mágico o 'False', en caso contrario"
   ]
  },
  {
   "cell_type": "code",
   "execution_count": 312,
   "id": "ebde27fb",
   "metadata": {},
   "outputs": [],
   "source": [
    "def es_cuadrado_magico(A):\n",
    "    \"\"\"\n",
    "  es_cuadrado_magico(a)\n",
    "  \n",
    "  Revisa si una matriz dada es un cuadrado mágico.\n",
    "\n",
    "  Parameters\n",
    "  ----------\n",
    "  A : numpy.ndarray\n",
    "      Matriz de nxn.\n",
    "\n",
    "  Returns\n",
    "  -------\n",
    "  output : bool\n",
    "      True si la matriz es cuadrado mágico/False si no es cuadrado mágico.\n",
    "        \n",
    "  Examples\n",
    "  --------\n",
    "  >>> es_cudrado_magico(A)\n",
    "  True\n",
    "  >>>es_cudrado_magico(B)\n",
    "  False \n",
    "  \"\"\"\n",
    "    n=len(A)\n",
    "    M=int((n*((n**2)+1))/2)\n",
    "    r=list(range(1,n**2+1))\n",
    "    l=[]\n",
    "    for i in range(n):\n",
    "        for j in range(n):\n",
    "            l.append(A[i][j])\n",
    "    l.sort()\n",
    "    if l!=r:\n",
    "        print(\"No son números consecutivos\")\n",
    "        return False         \n",
    "    for i in range(n):\n",
    "        suma=0\n",
    "        for j in range(n):\n",
    "            suma+=A[i][j]\n",
    "        if suma!=M:\n",
    "            return False  \n",
    "    for i in range(n):\n",
    "        suma=0\n",
    "        for j in range(n):\n",
    "            suma+=A[j][i]\n",
    "        if suma!=M:\n",
    "            return False\n",
    "    sumita1=0\n",
    "    sumita2=0\n",
    "    for i in range(n):\n",
    "        sumita1+=A[i][i]\n",
    "        sumita2+=A[i][n-1-i]\n",
    "    if sumita1!=M:\n",
    "        return False\n",
    "    elif sumita2!=M:\n",
    "        return False\n",
    "    return True   "
   ]
  },
  {
   "cell_type": "markdown",
   "id": "4827f99d",
   "metadata": {},
   "source": [
    "### Verificamos los ejemplos"
   ]
  },
  {
   "cell_type": "code",
   "execution_count": 310,
   "id": "9199ec3f",
   "metadata": {},
   "outputs": [],
   "source": [
    "# ejemplo 1\n",
    "A = np.array([[4,9,2],[3,5,7],[8,1,6]])\n",
    "assert es_cuadrado_magico(A) == True, \"ejemplo 01 incorrecto\""
   ]
  },
  {
   "cell_type": "code",
   "execution_count": 311,
   "id": "bc8f4bb3",
   "metadata": {},
   "outputs": [],
   "source": [
    "# ejemplo 2\n",
    "B = np.array([[4,2,9],[3,5,7],[8,1,6]])\n",
    "assert es_cuadrado_magico(B) == False, \"ejemplo 02 incorrecto\""
   ]
  }
 ],
 "metadata": {
  "kernelspec": {
   "display_name": "Python 3",
   "language": "python",
   "name": "python3"
  },
  "language_info": {
   "codemirror_mode": {
    "name": "ipython",
    "version": 3
   },
   "file_extension": ".py",
   "mimetype": "text/x-python",
   "name": "python",
   "nbconvert_exporter": "python",
   "pygments_lexer": "ipython3",
   "version": "3.8.8"
  }
 },
 "nbformat": 4,
 "nbformat_minor": 5
}
